{
 "cells": [
  {
   "cell_type": "code",
   "execution_count": 1,
   "metadata": {
    "_cell_guid": "b1076dfc-b9ad-4769-8c92-a6c4dae69d19",
    "_uuid": "8f2839f25d086af736a60e9eeb907d3b93b6e0e5",
    "execution": {
     "iopub.execute_input": "2021-03-22T16:34:53.917157Z",
     "iopub.status.busy": "2021-03-22T16:34:53.916171Z",
     "iopub.status.idle": "2021-03-22T16:34:55.649835Z",
     "shell.execute_reply": "2021-03-22T16:34:55.649051Z"
    },
    "papermill": {
     "duration": 1.758454,
     "end_time": "2021-03-22T16:34:55.650039",
     "exception": false,
     "start_time": "2021-03-22T16:34:53.891585",
     "status": "completed"
    },
    "tags": []
   },
   "outputs": [
    {
     "data": {
      "text/html": [
       "<style type='text/css'>\n",
       ".datatable table.frame { margin-bottom: 0; }\n",
       ".datatable table.frame thead { border-bottom: none; }\n",
       ".datatable table.frame tr.coltypes td {  color: #FFFFFF;  line-height: 6px;  padding: 0 0.5em;}\n",
       ".datatable .bool    { background: #DDDD99; }\n",
       ".datatable .object  { background: #565656; }\n",
       ".datatable .int     { background: #5D9E5D; }\n",
       ".datatable .float   { background: #4040CC; }\n",
       ".datatable .str     { background: #CC4040; }\n",
       ".datatable .row_index {  background: var(--jp-border-color3);  border-right: 1px solid var(--jp-border-color0);  color: var(--jp-ui-font-color3);  font-size: 9px;}\n",
       ".datatable .frame tr.coltypes .row_index {  background: var(--jp-border-color0);}\n",
       ".datatable th:nth-child(2) { padding-left: 12px; }\n",
       ".datatable .hellipsis {  color: var(--jp-cell-editor-border-color);}\n",
       ".datatable .vellipsis {  background: var(--jp-layout-color0);  color: var(--jp-cell-editor-border-color);}\n",
       ".datatable .na {  color: var(--jp-cell-editor-border-color);  font-size: 80%;}\n",
       ".datatable .footer { font-size: 9px; }\n",
       ".datatable .frame_dimensions {  background: var(--jp-border-color3);  border-top: 1px solid var(--jp-border-color0);  color: var(--jp-ui-font-color3);  display: inline-block;  opacity: 0.6;  padding: 1px 10px 1px 5px;}\n",
       "</style>\n"
      ],
      "text/plain": [
       "<IPython.core.display.HTML object>"
      ]
     },
     "metadata": {},
     "output_type": "display_data"
    }
   ],
   "source": [
    "import numpy as np \n",
    "import pandas as pd\n",
    "\n",
    "import matplotlib.pyplot as plt\n",
    "import seaborn as sns\n",
    "\n",
    "from scipy.stats import chi2_contingency\n",
    "from scipy.stats import chisquare\n",
    "import scipy.stats as ss\n",
    "\n",
    "from sklearn.metrics import accuracy_score,roc_auc_score\n",
    "from sklearn.preprocessing import LabelEncoder\n",
    "from sklearn.model_selection import RandomizedSearchCV, KFold, train_test_split\n",
    "from sklearn.ensemble import RandomForestClassifier\n",
    "from sklearn.linear_model import LogisticRegression\n",
    "\n",
    "\n",
    "from lightgbm import LGBMClassifier\n",
    "\n",
    "import warnings\n",
    "warnings.filterwarnings('ignore')"
   ]
  },
  {
   "cell_type": "code",
   "execution_count": 2,
   "metadata": {
    "execution": {
     "iopub.execute_input": "2021-03-22T16:34:55.698308Z",
     "iopub.status.busy": "2021-03-22T16:34:55.697613Z",
     "iopub.status.idle": "2021-03-22T16:34:55.777274Z",
     "shell.execute_reply": "2021-03-22T16:34:55.776440Z"
    },
    "papermill": {
     "duration": 0.10605,
     "end_time": "2021-03-22T16:34:55.777479",
     "exception": false,
     "start_time": "2021-03-22T16:34:55.671429",
     "status": "completed"
    },
    "tags": []
   },
   "outputs": [
    {
     "name": "stdout",
     "output_type": "stream",
     "text": [
      "Index(['customerID', 'gender', 'SeniorCitizen', 'Partner', 'Dependents',\n",
      "       'tenure', 'PhoneService', 'MultipleLines', 'InternetService',\n",
      "       'OnlineSecurity', 'OnlineBackup', 'DeviceProtection', 'TechSupport',\n",
      "       'StreamingTV', 'StreamingMovies', 'Contract', 'PaperlessBilling',\n",
      "       'PaymentMethod', 'MonthlyCharges', 'TotalCharges', 'Churn'],\n",
      "      dtype='object')\n",
      "customerID           object\n",
      "gender               object\n",
      "SeniorCitizen         int64\n",
      "Partner              object\n",
      "Dependents           object\n",
      "tenure                int64\n",
      "PhoneService         object\n",
      "MultipleLines        object\n",
      "InternetService      object\n",
      "OnlineSecurity       object\n",
      "OnlineBackup         object\n",
      "DeviceProtection     object\n",
      "TechSupport          object\n",
      "StreamingTV          object\n",
      "StreamingMovies      object\n",
      "Contract             object\n",
      "PaperlessBilling     object\n",
      "PaymentMethod        object\n",
      "MonthlyCharges      float64\n",
      "TotalCharges         object\n",
      "Churn                object\n",
      "dtype: object\n"
     ]
    }
   ],
   "source": [
    "df = pd.read_csv(\"../input/telco-customer-churn/WA_Fn-UseC_-Telco-Customer-Churn.csv\")\n",
    "print(df.columns)\n",
    "\n",
    "print(df.dtypes)"
   ]
  },
  {
   "cell_type": "markdown",
   "metadata": {
    "papermill": {
     "duration": 0.020978,
     "end_time": "2021-03-22T16:34:55.821123",
     "exception": false,
     "start_time": "2021-03-22T16:34:55.800145",
     "status": "completed"
    },
    "tags": []
   },
   "source": [
    "Number of missing values or spaces"
   ]
  },
  {
   "cell_type": "code",
   "execution_count": 3,
   "metadata": {
    "execution": {
     "iopub.execute_input": "2021-03-22T16:34:55.888832Z",
     "iopub.status.busy": "2021-03-22T16:34:55.880313Z",
     "iopub.status.idle": "2021-03-22T16:34:55.917596Z",
     "shell.execute_reply": "2021-03-22T16:34:55.919500Z"
    },
    "papermill": {
     "duration": 0.077271,
     "end_time": "2021-03-22T16:34:55.919826",
     "exception": false,
     "start_time": "2021-03-22T16:34:55.842555",
     "status": "completed"
    },
    "tags": []
   },
   "outputs": [
    {
     "name": "stdout",
     "output_type": "stream",
     "text": [
      "customerID\n",
      "Int64Index([], dtype='int64')\n",
      "gender\n",
      "Int64Index([], dtype='int64')\n",
      "SeniorCitizen\n",
      "Int64Index([], dtype='int64')\n",
      "Partner\n",
      "Int64Index([], dtype='int64')\n",
      "Dependents\n",
      "Int64Index([], dtype='int64')\n",
      "tenure\n",
      "Int64Index([], dtype='int64')\n",
      "PhoneService\n",
      "Int64Index([], dtype='int64')\n",
      "MultipleLines\n",
      "Int64Index([], dtype='int64')\n",
      "InternetService\n",
      "Int64Index([], dtype='int64')\n",
      "OnlineSecurity\n",
      "Int64Index([], dtype='int64')\n",
      "OnlineBackup\n",
      "Int64Index([], dtype='int64')\n",
      "DeviceProtection\n",
      "Int64Index([], dtype='int64')\n",
      "TechSupport\n",
      "Int64Index([], dtype='int64')\n",
      "StreamingTV\n",
      "Int64Index([], dtype='int64')\n",
      "StreamingMovies\n",
      "Int64Index([], dtype='int64')\n",
      "Contract\n",
      "Int64Index([], dtype='int64')\n",
      "PaperlessBilling\n",
      "Int64Index([], dtype='int64')\n",
      "PaymentMethod\n",
      "Int64Index([], dtype='int64')\n",
      "MonthlyCharges\n",
      "Int64Index([], dtype='int64')\n",
      "TotalCharges\n",
      "Int64Index([488, 753, 936, 1082, 1340, 3331, 3826, 4380, 5218, 6670, 6754], dtype='int64')\n",
      "Churn\n",
      "Int64Index([], dtype='int64')\n"
     ]
    }
   ],
   "source": [
    "for column in df.columns:\n",
    "    \n",
    "    print(column)\n",
    "    \n",
    "    print(df[df[column] == ' '].index)"
   ]
  },
  {
   "cell_type": "markdown",
   "metadata": {
    "papermill": {
     "duration": 0.022643,
     "end_time": "2021-03-22T16:34:55.965648",
     "exception": false,
     "start_time": "2021-03-22T16:34:55.943005",
     "status": "completed"
    },
    "tags": []
   },
   "source": [
    "Remove rows with spaces"
   ]
  },
  {
   "cell_type": "code",
   "execution_count": 4,
   "metadata": {
    "execution": {
     "iopub.execute_input": "2021-03-22T16:34:56.020220Z",
     "iopub.status.busy": "2021-03-22T16:34:56.019464Z",
     "iopub.status.idle": "2021-03-22T16:34:56.025871Z",
     "shell.execute_reply": "2021-03-22T16:34:56.026693Z"
    },
    "papermill": {
     "duration": 0.038643,
     "end_time": "2021-03-22T16:34:56.026959",
     "exception": false,
     "start_time": "2021-03-22T16:34:55.988316",
     "status": "completed"
    },
    "tags": []
   },
   "outputs": [
    {
     "name": "stdout",
     "output_type": "stream",
     "text": [
      "Tenure of customers with zero total charges:  488     0\n",
      "753     0\n",
      "936     0\n",
      "1082    0\n",
      "1340    0\n",
      "3331    0\n",
      "3826    0\n",
      "4380    0\n",
      "5218    0\n",
      "6670    0\n",
      "6754    0\n",
      "Name: tenure, dtype: int64\n"
     ]
    }
   ],
   "source": [
    "print(\"Tenure of customers with zero total charges: \",df[df[\"TotalCharges\"]==\" \"][\"tenure\"])\n",
    "# These customers seem to have registered but not started with their service to be evaluated. Hence, they will be excluded\n",
    "df = df[df[\"TotalCharges\"]!=\" \"] "
   ]
  },
  {
   "cell_type": "markdown",
   "metadata": {
    "papermill": {
     "duration": 0.022681,
     "end_time": "2021-03-22T16:34:56.074989",
     "exception": false,
     "start_time": "2021-03-22T16:34:56.052308",
     "status": "completed"
    },
    "tags": []
   },
   "source": [
    "- EDA for most recognisable fields\n",
    "  - Gender \n",
    "  - Senior citizen\n",
    "  - Partner\n",
    "  - Dependents\n",
    "  - Tenure\n",
    "  - Phone service\n",
    "  - Multiple Lines\n",
    "  - Internet service\n",
    "  - Online security\n",
    "  - Online backup\n",
    "  - Device protection\n",
    "  - Tech Suppport\n",
    "  - Streaming TV\n",
    "  - Streaming movies\n",
    "  - Contract\n",
    "  - Paper less Billing\n",
    "  - Payment method\n",
    "  "
   ]
  },
  {
   "cell_type": "code",
   "execution_count": 5,
   "metadata": {
    "execution": {
     "iopub.execute_input": "2021-03-22T16:34:56.129294Z",
     "iopub.status.busy": "2021-03-22T16:34:56.128371Z",
     "iopub.status.idle": "2021-03-22T16:34:56.172604Z",
     "shell.execute_reply": "2021-03-22T16:34:56.171932Z"
    },
    "papermill": {
     "duration": 0.075251,
     "end_time": "2021-03-22T16:34:56.172957",
     "exception": false,
     "start_time": "2021-03-22T16:34:56.097706",
     "status": "completed"
    },
    "tags": []
   },
   "outputs": [
    {
     "name": "stdout",
     "output_type": "stream",
     "text": [
      "For customerID:7032unique values\n",
      "For gender:2unique values\n",
      "For SeniorCitizen:2unique values\n",
      "For Partner:2unique values\n",
      "For Dependents:2unique values\n",
      "For tenure:72unique values\n",
      "For PhoneService:2unique values\n",
      "For MultipleLines:3unique values\n",
      "For InternetService:3unique values\n",
      "For OnlineSecurity:3unique values\n",
      "For OnlineBackup:3unique values\n",
      "For DeviceProtection:3unique values\n",
      "For TechSupport:3unique values\n",
      "For StreamingTV:3unique values\n",
      "For StreamingMovies:3unique values\n",
      "For Contract:3unique values\n",
      "For PaperlessBilling:2unique values\n",
      "For PaymentMethod:4unique values\n",
      "For MonthlyCharges:1584unique values\n",
      "For TotalCharges:6530unique values\n",
      "For Churn:2unique values\n"
     ]
    }
   ],
   "source": [
    "for column in df.columns:\n",
    "    \n",
    "    print(\"For \"+ column+ \":\" + str(df[column].nunique()) + \"unique values\")"
   ]
  },
  {
   "cell_type": "markdown",
   "metadata": {
    "papermill": {
     "duration": 0.022302,
     "end_time": "2021-03-22T16:34:56.218233",
     "exception": false,
     "start_time": "2021-03-22T16:34:56.195931",
     "status": "completed"
    },
    "tags": []
   },
   "source": [
    "- EDA for features for 5 or less than 5 unique values\n"
   ]
  },
  {
   "cell_type": "code",
   "execution_count": 6,
   "metadata": {
    "execution": {
     "iopub.execute_input": "2021-03-22T16:34:56.271388Z",
     "iopub.status.busy": "2021-03-22T16:34:56.270430Z",
     "iopub.status.idle": "2021-03-22T16:34:56.303912Z",
     "shell.execute_reply": "2021-03-22T16:34:56.303343Z"
    },
    "papermill": {
     "duration": 0.062924,
     "end_time": "2021-03-22T16:34:56.304068",
     "exception": false,
     "start_time": "2021-03-22T16:34:56.241144",
     "status": "completed"
    },
    "tags": []
   },
   "outputs": [],
   "source": [
    "columns_5 = []\n",
    "\n",
    "for column in df.columns:\n",
    "     \n",
    "    if df[column].nunique() <=5 and column!=\"Churn\":\n",
    "        \n",
    "        columns_5.append(column)\n",
    "        "
   ]
  },
  {
   "cell_type": "code",
   "execution_count": 7,
   "metadata": {
    "execution": {
     "iopub.execute_input": "2021-03-22T16:34:56.369900Z",
     "iopub.status.busy": "2021-03-22T16:34:56.364951Z",
     "iopub.status.idle": "2021-03-22T16:34:56.507584Z",
     "shell.execute_reply": "2021-03-22T16:34:56.506943Z"
    },
    "papermill": {
     "duration": 0.180603,
     "end_time": "2021-03-22T16:34:56.507751",
     "exception": false,
     "start_time": "2021-03-22T16:34:56.327148",
     "status": "completed"
    },
    "tags": []
   },
   "outputs": [
    {
     "data": {
      "image/png": "[encoded data removed]",
      "text/plain": [
       "<Figure size 432x288 with 1 Axes>"
      ]
     },
     "metadata": {
      "needs_background": "light"
     },
     "output_type": "display_data"
    }
   ],
   "source": [
    "Bar_Pred = sns.countplot(x='Churn',data=df)\n",
    "plt.show()"
   ]
  },
  {
   "cell_type": "markdown",
   "metadata": {
    "papermill": {
     "duration": 0.024427,
     "end_time": "2021-03-22T16:34:56.555995",
     "exception": false,
     "start_time": "2021-03-22T16:34:56.531568",
     "status": "completed"
    },
    "tags": []
   },
   "source": [
    "Overall lower frequency of churn in the dataset"
   ]
  },
  {
   "cell_type": "code",
   "execution_count": 8,
   "metadata": {
    "execution": {
     "iopub.execute_input": "2021-03-22T16:34:56.638967Z",
     "iopub.status.busy": "2021-03-22T16:34:56.629868Z",
     "iopub.status.idle": "2021-03-22T16:34:59.277130Z",
     "shell.execute_reply": "2021-03-22T16:34:59.277648Z"
    },
    "papermill": {
     "duration": 2.697984,
     "end_time": "2021-03-22T16:34:59.277888",
     "exception": false,
     "start_time": "2021-03-22T16:34:56.579904",
     "status": "completed"
    },
    "tags": []
   },
   "outputs": [
    {
     "data": {
      "image/png": "[encoded data removed]",
      "text/plain": [
       "<Figure size 2160x2160 with 16 Axes>"
      ]
     },
     "metadata": {
      "needs_background": "light"
     },
     "output_type": "display_data"
    }
   ],
   "source": [
    "fig, axs = plt.subplots(4, 4, sharex=False, sharey=True, figsize=(30,30))\n",
    "\n",
    "count_row = 0\n",
    "count_columns = 0\n",
    "for column in columns_5:    \n",
    "    \n",
    "    \n",
    "    Bar_Plot = sns.countplot(x=column,hue='Churn',data=df,ax = axs[count_row][count_columns]).set_title(\"Frequeny distribution for: \" + str(column))\n",
    "        \n",
    "   \n",
    "    count_columns +=1\n",
    "    \n",
    "    if count_columns == 4:\n",
    "        count_row+=1\n",
    "        count_columns=0"
   ]
  },
  {
   "cell_type": "markdown",
   "metadata": {
    "papermill": {
     "duration": 0.026724,
     "end_time": "2021-03-22T16:34:59.340343",
     "exception": false,
     "start_time": "2021-03-22T16:34:59.313619",
     "status": "completed"
    },
    "tags": []
   },
   "source": [
    "### Although freuquency of churn is generally lower, let's look at some significant results\n",
    "```\n",
    "1. Non senior citizens are less likely to churn propprtionally to senior citizens   \n",
    "2. Presence of a phone service and tech support play an important role in preventing customer churn\n",
    "3. Contracts without paperless billing are less likely to churn than paperless billing  \n",
    "4. Customers with DSL service are propotionally less likely to churn than with fiber optic\n",
    "\n",
    "```\n",
    "\n"
   ]
  },
  {
   "cell_type": "markdown",
   "metadata": {
    "papermill": {
     "duration": 0.026108,
     "end_time": "2021-03-22T16:34:59.393046",
     "exception": false,
     "start_time": "2021-03-22T16:34:59.366938",
     "status": "completed"
    },
    "tags": []
   },
   "source": [
    "### Let's look at how these categorical features are correlated"
   ]
  },
  {
   "cell_type": "code",
   "execution_count": 9,
   "metadata": {
    "execution": {
     "iopub.execute_input": "2021-03-22T16:34:59.458392Z",
     "iopub.status.busy": "2021-03-22T16:34:59.454911Z",
     "iopub.status.idle": "2021-03-22T16:35:04.628386Z",
     "shell.execute_reply": "2021-03-22T16:35:04.627847Z"
    },
    "papermill": {
     "duration": 5.208905,
     "end_time": "2021-03-22T16:35:04.628547",
     "exception": false,
     "start_time": "2021-03-22T16:34:59.419642",
     "status": "completed"
    },
    "tags": []
   },
   "outputs": [],
   "source": [
    "df_corr = df[columns_5]\n",
    "\n",
    "# Cramers V for categorical correlations\n",
    "def cramers_v(x, y):\n",
    "    x = np.array(x)\n",
    "    y = np.array(y)\n",
    "    confusion_matrix = pd.crosstab(x, y)\n",
    "    chi2 = ss.chi2_contingency(confusion_matrix)[0]\n",
    "    n = confusion_matrix.sum().sum()\n",
    "    phi2 = chi2/n\n",
    "    r,k = confusion_matrix.shape\n",
    "    phi2corr = max(0, phi2-((k-1)*(r-1))/(n-1))\n",
    "    rcorr = r-((r-1)**2)/(n-1)\n",
    "    kcorr = k-((k-1)**2)/(n-1)\n",
    "    return np.sqrt(phi2corr/min((kcorr-1),(rcorr-1)))\n",
    "\n",
    "cramersv = pd.DataFrame(index=df_corr.columns,columns=df_corr.columns)\n",
    "columns = df_corr.columns\n",
    "\n",
    "for i in range(0,len(columns)):\n",
    "    for j in range(0,len(columns)):\n",
    "        #print(data[columns[i]].tolist())\n",
    "        u = cramers_v(df_corr[columns[i]].tolist(),df_corr[columns[j]].tolist())\n",
    "        cramersv.loc[columns[i],columns[j]] = u\n",
    "        \n",
    "cramersv.fillna(value=np.nan,inplace=True)\n"
   ]
  },
  {
   "cell_type": "code",
   "execution_count": 10,
   "metadata": {
    "execution": {
     "iopub.execute_input": "2021-03-22T16:35:04.715652Z",
     "iopub.status.busy": "2021-03-22T16:35:04.713224Z",
     "iopub.status.idle": "2021-03-22T16:35:05.303685Z",
     "shell.execute_reply": "2021-03-22T16:35:05.303165Z"
    },
    "papermill": {
     "duration": 0.648241,
     "end_time": "2021-03-22T16:35:05.303853",
     "exception": false,
     "start_time": "2021-03-22T16:35:04.655612",
     "status": "completed"
    },
    "tags": []
   },
   "outputs": [
    {
     "data": {
      "image/png": "[encoded data removed]",
      "text/plain": [
       "<Figure size 1440x1440 with 2 Axes>"
      ]
     },
     "metadata": {
      "needs_background": "light"
     },
     "output_type": "display_data"
    }
   ],
   "source": [
    "plt.figure(figsize=(20,20))\n",
    "sns.heatmap(cramersv,cmap=\"YlGnBu\")\n",
    "plt.show()"
   ]
  },
  {
   "cell_type": "markdown",
   "metadata": {
    "papermill": {
     "duration": 0.028252,
     "end_time": "2021-03-22T16:35:05.360457",
     "exception": false,
     "start_time": "2021-03-22T16:35:05.332205",
     "status": "completed"
    },
    "tags": []
   },
   "source": [
    "- Apart from the expected correlation between partners and dependants, there is a strong correlation between the phone service and presence of multiple lines (or multiple phone numbers for the same customer). My guess is that a good service prompts customers to order multiple lines\n",
    "- Also users of internet security avail other internet based features\n",
    "- Let's look at phone service a bit more closely"
   ]
  },
  {
   "cell_type": "code",
   "execution_count": 11,
   "metadata": {
    "execution": {
     "iopub.execute_input": "2021-03-22T16:35:05.431199Z",
     "iopub.status.busy": "2021-03-22T16:35:05.427603Z",
     "iopub.status.idle": "2021-03-22T16:35:05.435721Z",
     "shell.execute_reply": "2021-03-22T16:35:05.436774Z"
    },
    "papermill": {
     "duration": 0.048037,
     "end_time": "2021-03-22T16:35:05.436959",
     "exception": false,
     "start_time": "2021-03-22T16:35:05.388922",
     "status": "completed"
    },
    "tags": []
   },
   "outputs": [
    {
     "name": "stdout",
     "output_type": "stream",
     "text": [
      "Percentage of users with multiple lines having good phone service 100.0 %\n"
     ]
    }
   ],
   "source": [
    "\n",
    "df_PS = df[[\"PhoneService\",\"MultipleLines\"]]\n",
    "Total_yes_multiple_lines = len(df_PS[(df_PS[\"MultipleLines\"]==\"Yes\")])\n",
    "\n",
    "\n",
    "\n",
    "# Check for relation between good phone service and multiple lines\n",
    "df_CS_corr = df_PS[(df_PS[\"PhoneService\"]==\"Yes\") & (df_PS[\"MultipleLines\"]==\"Yes\")]\n",
    "\n",
    "print(\"Percentage of users with multiple lines having good phone service \" + str(len(df_CS_corr)*100/Total_yes_multiple_lines) + \" %\") \n"
   ]
  },
  {
   "cell_type": "markdown",
   "metadata": {
    "papermill": {
     "duration": 0.028557,
     "end_time": "2021-03-22T16:35:05.494168",
     "exception": false,
     "start_time": "2021-03-22T16:35:05.465611",
     "status": "completed"
    },
    "tags": []
   },
   "source": [
    "- This confirms the fact that good service leads to multiple subscriptions"
   ]
  },
  {
   "cell_type": "markdown",
   "metadata": {
    "papermill": {
     "duration": 0.028471,
     "end_time": "2021-03-22T16:35:05.551546",
     "exception": false,
     "start_time": "2021-03-22T16:35:05.523075",
     "status": "completed"
    },
    "tags": []
   },
   "source": [
    "### Lets look at the relation between tenure to churn for customers who have terminated their service"
   ]
  },
  {
   "cell_type": "code",
   "execution_count": 12,
   "metadata": {
    "execution": {
     "iopub.execute_input": "2021-03-22T16:35:05.616232Z",
     "iopub.status.busy": "2021-03-22T16:35:05.615565Z",
     "iopub.status.idle": "2021-03-22T16:35:05.617990Z",
     "shell.execute_reply": "2021-03-22T16:35:05.617355Z"
    },
    "papermill": {
     "duration": 0.037795,
     "end_time": "2021-03-22T16:35:05.618138",
     "exception": false,
     "start_time": "2021-03-22T16:35:05.580343",
     "status": "completed"
    },
    "tags": []
   },
   "outputs": [],
   "source": [
    "df_churn = df[df[\"Churn\"]==\"Yes\"]"
   ]
  },
  {
   "cell_type": "code",
   "execution_count": 13,
   "metadata": {
    "execution": {
     "iopub.execute_input": "2021-03-22T16:35:05.686161Z",
     "iopub.status.busy": "2021-03-22T16:35:05.685494Z",
     "iopub.status.idle": "2021-03-22T16:35:05.887136Z",
     "shell.execute_reply": "2021-03-22T16:35:05.887704Z"
    },
    "papermill": {
     "duration": 0.240808,
     "end_time": "2021-03-22T16:35:05.887912",
     "exception": false,
     "start_time": "2021-03-22T16:35:05.647104",
     "status": "completed"
    },
    "tags": []
   },
   "outputs": [
    {
     "data": {
      "text/plain": [
       "<AxesSubplot:xlabel='tenure', ylabel='Count'>"
      ]
     },
     "execution_count": 13,
     "metadata": {},
     "output_type": "execute_result"
    },
    {
     "data": {
      "image/png": "[encoded data removed]",
      "text/plain": [
       "<Figure size 432x288 with 1 Axes>"
      ]
     },
     "metadata": {
      "needs_background": "light"
     },
     "output_type": "display_data"
    }
   ],
   "source": [
    "sns.histplot(df_churn[\"tenure\"])\n"
   ]
  },
  {
   "cell_type": "markdown",
   "metadata": {
    "papermill": {
     "duration": 0.03013,
     "end_time": "2021-03-22T16:35:05.949279",
     "exception": false,
     "start_time": "2021-03-22T16:35:05.919149",
     "status": "completed"
    },
    "tags": []
   },
   "source": [
    "- Highest frequency of churn in the first 10 months. Customers make up their mind within the first 10 months to terminate or continue their service"
   ]
  },
  {
   "cell_type": "code",
   "execution_count": 14,
   "metadata": {
    "execution": {
     "iopub.execute_input": "2021-03-22T16:35:06.027445Z",
     "iopub.status.busy": "2021-03-22T16:35:06.021666Z",
     "iopub.status.idle": "2021-03-22T16:35:06.218199Z",
     "shell.execute_reply": "2021-03-22T16:35:06.217507Z"
    },
    "papermill": {
     "duration": 0.23825,
     "end_time": "2021-03-22T16:35:06.218347",
     "exception": false,
     "start_time": "2021-03-22T16:35:05.980097",
     "status": "completed"
    },
    "tags": []
   },
   "outputs": [
    {
     "data": {
      "text/plain": [
       "<AxesSubplot:xlabel='MonthlyCharges', ylabel='Count'>"
      ]
     },
     "execution_count": 14,
     "metadata": {},
     "output_type": "execute_result"
    },
    {
     "data": {
      "image/png": "[encoded data removed]",
      "text/plain": [
       "<Figure size 432x288 with 1 Axes>"
      ]
     },
     "metadata": {
      "needs_background": "light"
     },
     "output_type": "display_data"
    }
   ],
   "source": [
    "sns.histplot(df_churn[\"MonthlyCharges\"])"
   ]
  },
  {
   "cell_type": "markdown",
   "metadata": {
    "papermill": {
     "duration": 0.032067,
     "end_time": "2021-03-22T16:35:06.282670",
     "exception": false,
     "start_time": "2021-03-22T16:35:06.250603",
     "status": "completed"
    },
    "tags": []
   },
   "source": [
    "- Monthly charges between 60 and 110 have a high frequency count but can not infer any significant meaning"
   ]
  },
  {
   "cell_type": "markdown",
   "metadata": {
    "papermill": {
     "duration": 0.031171,
     "end_time": "2021-03-22T16:35:06.345508",
     "exception": false,
     "start_time": "2021-03-22T16:35:06.314337",
     "status": "completed"
    },
    "tags": []
   },
   "source": [
    "### Let's look at the prediction by evaluating three models\n",
    "```\n",
    "1. Light gbm\n",
    "2. Random forest\n",
    "3. Logistic regression\n",
    "```"
   ]
  },
  {
   "cell_type": "code",
   "execution_count": 15,
   "metadata": {
    "execution": {
     "iopub.execute_input": "2021-03-22T16:35:06.421114Z",
     "iopub.status.busy": "2021-03-22T16:35:06.418812Z",
     "iopub.status.idle": "2021-03-22T16:35:06.466332Z",
     "shell.execute_reply": "2021-03-22T16:35:06.465500Z"
    },
    "papermill": {
     "duration": 0.089648,
     "end_time": "2021-03-22T16:35:06.466505",
     "exception": false,
     "start_time": "2021-03-22T16:35:06.376857",
     "status": "completed"
    },
    "tags": []
   },
   "outputs": [
    {
     "name": "stdout",
     "output_type": "stream",
     "text": [
      "   SeniorCitizen  tenure  MonthlyCharges  TotalCharges  gender_Female  \\\n",
      "0              0       1           29.85         29.85              1   \n",
      "1              0      34           56.95       1889.50              0   \n",
      "2              0       2           53.85        108.15              0   \n",
      "3              0      45           42.30       1840.75              0   \n",
      "4              0       2           70.70        151.65              1   \n",
      "5              0       8           99.65        820.50              1   \n",
      "6              0      22           89.10       1949.40              0   \n",
      "7              0      10           29.75        301.90              1   \n",
      "8              0      28          104.80       3046.05              1   \n",
      "9              0      62           56.15       3487.95              0   \n",
      "\n",
      "   gender_Male  Partner_No  Partner_Yes  Dependents_No  Dependents_Yes  ...  \\\n",
      "0            0           0            1              1               0  ...   \n",
      "1            1           1            0              1               0  ...   \n",
      "2            1           1            0              1               0  ...   \n",
      "3            1           1            0              1               0  ...   \n",
      "4            0           1            0              1               0  ...   \n",
      "5            0           1            0              1               0  ...   \n",
      "6            1           1            0              0               1  ...   \n",
      "7            0           1            0              1               0  ...   \n",
      "8            0           0            1              1               0  ...   \n",
      "9            1           1            0              0               1  ...   \n",
      "\n",
      "   StreamingMovies_Yes  Contract_Month-to-month  Contract_One year  \\\n",
      "0                    0                        1                  0   \n",
      "1                    0                        0                  1   \n",
      "2                    0                        1                  0   \n",
      "3                    0                        0                  1   \n",
      "4                    0                        1                  0   \n",
      "5                    1                        1                  0   \n",
      "6                    0                        1                  0   \n",
      "7                    0                        1                  0   \n",
      "8                    1                        1                  0   \n",
      "9                    0                        0                  1   \n",
      "\n",
      "   Contract_Two year  PaperlessBilling_No  PaperlessBilling_Yes  \\\n",
      "0                  0                    0                     1   \n",
      "1                  0                    1                     0   \n",
      "2                  0                    0                     1   \n",
      "3                  0                    1                     0   \n",
      "4                  0                    0                     1   \n",
      "5                  0                    0                     1   \n",
      "6                  0                    0                     1   \n",
      "7                  0                    1                     0   \n",
      "8                  0                    0                     1   \n",
      "9                  0                    1                     0   \n",
      "\n",
      "   PaymentMethod_Bank transfer (automatic)  \\\n",
      "0                                        0   \n",
      "1                                        0   \n",
      "2                                        0   \n",
      "3                                        1   \n",
      "4                                        0   \n",
      "5                                        0   \n",
      "6                                        0   \n",
      "7                                        0   \n",
      "8                                        0   \n",
      "9                                        1   \n",
      "\n",
      "   PaymentMethod_Credit card (automatic)  PaymentMethod_Electronic check  \\\n",
      "0                                      0                               1   \n",
      "1                                      0                               0   \n",
      "2                                      0                               0   \n",
      "3                                      0                               0   \n",
      "4                                      0                               1   \n",
      "5                                      0                               1   \n",
      "6                                      1                               0   \n",
      "7                                      0                               0   \n",
      "8                                      0                               1   \n",
      "9                                      0                               0   \n",
      "\n",
      "   PaymentMethod_Mailed check  \n",
      "0                           0  \n",
      "1                           1  \n",
      "2                           1  \n",
      "3                           0  \n",
      "4                           0  \n",
      "5                           0  \n",
      "6                           0  \n",
      "7                           1  \n",
      "8                           0  \n",
      "9                           0  \n",
      "\n",
      "[10 rows x 45 columns]\n"
     ]
    }
   ],
   "source": [
    "df['TotalCharges'] = df['TotalCharges'].apply(float)\n",
    "\n",
    "# Rather than label encoding, we can convert the categorical values to dummy variables. \n",
    "# This can help evaluate individual fetures directly\n",
    "y = df[\"Churn\"]\n",
    "df = df.drop(columns=[\"Churn\",\"customerID\"])\n",
    "\n",
    "df = pd.get_dummies(df)\n",
    "print(df.head(10))\n",
    "\n",
    "X = df\n",
    "y = y.values\n",
    "y = y.reshape((len(y), 1))\n",
    "\n",
    "\n"
   ]
  },
  {
   "cell_type": "code",
   "execution_count": 16,
   "metadata": {
    "execution": {
     "iopub.execute_input": "2021-03-22T16:35:06.537921Z",
     "iopub.status.busy": "2021-03-22T16:35:06.536937Z",
     "iopub.status.idle": "2021-03-22T16:35:06.543220Z",
     "shell.execute_reply": "2021-03-22T16:35:06.542549Z"
    },
    "papermill": {
     "duration": 0.044735,
     "end_time": "2021-03-22T16:35:06.543363",
     "exception": false,
     "start_time": "2021-03-22T16:35:06.498628",
     "status": "completed"
    },
    "tags": []
   },
   "outputs": [],
   "source": [
    "# split into train and test sets\n",
    "X_train,X_test,y_train,y_test = train_test_split(X,y,test_size=0.2,random_state=42)"
   ]
  },
  {
   "cell_type": "markdown",
   "metadata": {
    "papermill": {
     "duration": 0.031735,
     "end_time": "2021-03-22T16:35:06.607755",
     "exception": false,
     "start_time": "2021-03-22T16:35:06.576020",
     "status": "completed"
    },
    "tags": []
   },
   "source": [
    "- Random Forest"
   ]
  },
  {
   "cell_type": "code",
   "execution_count": 17,
   "metadata": {
    "execution": {
     "iopub.execute_input": "2021-03-22T16:35:06.692369Z",
     "iopub.status.busy": "2021-03-22T16:35:06.691558Z",
     "iopub.status.idle": "2021-03-22T16:35:52.339713Z",
     "shell.execute_reply": "2021-03-22T16:35:52.340264Z"
    },
    "papermill": {
     "duration": 45.700543,
     "end_time": "2021-03-22T16:35:52.340474",
     "exception": false,
     "start_time": "2021-03-22T16:35:06.639931",
     "status": "completed"
    },
    "tags": []
   },
   "outputs": [
    {
     "name": "stdout",
     "output_type": "stream",
     "text": [
      "Fitting 5 folds for each of 6 candidates, totalling 30 fits\n",
      "Best Score 0.8040888888888891 with paramter {'n_estimators': 200, 'min_samples_split': 10, 'min_samples_leaf': 10, 'max_depth': 50}\n",
      "Accuracy: 0.7924662402274343\n"
     ]
    }
   ],
   "source": [
    "clf=RandomForestClassifier()\n",
    "\n",
    "param_test={\n",
    "        'n_estimators': range(200,500,100), \n",
    "        'min_samples_leaf': range(10,20,10), \n",
    "        'min_samples_split': range(10,20,10),  \n",
    "        'max_depth': range(40,60,10)       \n",
    "    }\n",
    "            \n",
    "model = RandomizedSearchCV(\n",
    "  estimator=clf, param_distributions=param_test, \n",
    "   scoring='accuracy',\n",
    "   random_state=314,\n",
    "   verbose=True, n_iter=10)\n",
    "result = model.fit(X_train, y_train)\n",
    "            \n",
    "print(\"Best Score \" + str(result.best_score_)+\" with paramter \"+ str(result.best_params_))\n",
    "\n",
    "model1 = RandomForestClassifier(n_estimators=result.best_params_['n_estimators'],\n",
    "                              min_samples_split=result.best_params_['min_samples_split'],\n",
    "                              min_samples_leaf=result.best_params_['min_samples_leaf'], \n",
    "                              max_depth=result.best_params_['max_depth'])\n",
    "\n",
    "model1.fit(X_train, y_train)\n",
    "\n",
    "pred = model1.predict(X_test)\n",
    "print('Accuracy:',accuracy_score(pred,y_test))"
   ]
  },
  {
   "cell_type": "markdown",
   "metadata": {
    "papermill": {
     "duration": 0.033024,
     "end_time": "2021-03-22T16:35:52.407929",
     "exception": false,
     "start_time": "2021-03-22T16:35:52.374905",
     "status": "completed"
    },
    "tags": []
   },
   "source": [
    "- Light GBM"
   ]
  },
  {
   "cell_type": "code",
   "execution_count": 18,
   "metadata": {
    "execution": {
     "iopub.execute_input": "2021-03-22T16:35:52.490035Z",
     "iopub.status.busy": "2021-03-22T16:35:52.489205Z",
     "iopub.status.idle": "2021-03-22T16:36:05.020861Z",
     "shell.execute_reply": "2021-03-22T16:36:05.021609Z"
    },
    "papermill": {
     "duration": 12.581067,
     "end_time": "2021-03-22T16:36:05.021844",
     "exception": false,
     "start_time": "2021-03-22T16:35:52.440777",
     "status": "completed"
    },
    "tags": []
   },
   "outputs": [
    {
     "name": "stdout",
     "output_type": "stream",
     "text": [
      "Fitting 5 folds for each of 10 candidates, totalling 50 fits\n",
      "Best Score 0.8028444444444445 with paramter {'subsample_freq': 20, 'subsample': 0.7, 'reg_lambda': 1.1, 'reg_alpha': 1.1, 'num_leaves': 100, 'n_estimators': 400, 'min_split_gain': 0.3, 'max_depth': 20, 'colsample_bytree': 0.8}\n",
      "Accuracy: 0.7896233120113717\n"
     ]
    }
   ],
   "source": [
    "clf= LGBMClassifier()\n",
    "\n",
    "param_test ={  'n_estimators': [400, 700, 1000],\n",
    "  'colsample_bytree': [0.7, 0.8],\n",
    "  'max_depth': [15,20,25],\n",
    "   'num_leaves': [50, 100, 200],\n",
    "  'reg_alpha': [1.1, 1.2, 1.3],\n",
    " 'reg_lambda': [1.1, 1.2, 1.3],\n",
    " 'min_split_gain': [0.3, 0.4],\n",
    " 'subsample': [0.7, 0.8, 0.9],\n",
    "  'subsample_freq': [20]}\n",
    "\n",
    "model = RandomizedSearchCV(\n",
    "  estimator=clf, param_distributions=param_test, \n",
    "   scoring='accuracy',\n",
    "   random_state=314,\n",
    "   verbose=True, n_iter=10)\n",
    "result = model.fit(X_train, y_train)\n",
    "            \n",
    "print(\"Best Score \" + str(result.best_score_)+\" with paramter \"+ str(result.best_params_))\n",
    "\n",
    "model2 = LGBMClassifier(subsample_freq= result.best_params_['subsample_freq'],subsample= result.best_params_['subsample'], \n",
    "                       reg_lambda= result.best_params_['reg_lambda'], reg_alpha = result.best_params_['reg_alpha'], \n",
    "                       num_leaves = result.best_params_['num_leaves'], n_estimators = result.best_params_['n_estimators'], \n",
    "                       min_split_gain = result.best_params_['min_split_gain'], max_depth = result.best_params_['max_depth'], \n",
    "                       colsample_bytre = result.best_params_['colsample_bytree'])\n",
    "\n",
    "model2.fit(X_train, y_train)\n",
    "\n",
    "pred = model2.predict(X_test)\n",
    "print('Accuracy:',accuracy_score(pred,y_test))"
   ]
  },
  {
   "cell_type": "markdown",
   "metadata": {
    "papermill": {
     "duration": 0.033748,
     "end_time": "2021-03-22T16:36:05.100184",
     "exception": false,
     "start_time": "2021-03-22T16:36:05.066436",
     "status": "completed"
    },
    "tags": []
   },
   "source": [
    "- Logistic regression"
   ]
  },
  {
   "cell_type": "code",
   "execution_count": 19,
   "metadata": {
    "execution": {
     "iopub.execute_input": "2021-03-22T16:36:05.176167Z",
     "iopub.status.busy": "2021-03-22T16:36:05.175505Z",
     "iopub.status.idle": "2021-03-22T16:36:05.347942Z",
     "shell.execute_reply": "2021-03-22T16:36:05.347188Z"
    },
    "papermill": {
     "duration": 0.214309,
     "end_time": "2021-03-22T16:36:05.348150",
     "exception": false,
     "start_time": "2021-03-22T16:36:05.133841",
     "status": "completed"
    },
    "tags": []
   },
   "outputs": [
    {
     "name": "stdout",
     "output_type": "stream",
     "text": [
      "Accuracy: 0.7853589196872779\n"
     ]
    }
   ],
   "source": [
    "model3 = LogisticRegression()\n",
    "model3.fit(X_train, y_train)\n",
    "\n",
    "pred = model3.predict(X_test)\n",
    "print('Accuracy:',accuracy_score(pred,y_test))"
   ]
  },
  {
   "cell_type": "markdown",
   "metadata": {
    "papermill": {
     "duration": 0.034415,
     "end_time": "2021-03-22T16:36:05.420629",
     "exception": false,
     "start_time": "2021-03-22T16:36:05.386214",
     "status": "completed"
    },
    "tags": []
   },
   "source": [
    "- With similar performances, lets find out the important features contributing to the model performance (Random forest classifier)"
   ]
  },
  {
   "cell_type": "code",
   "execution_count": 20,
   "metadata": {
    "execution": {
     "iopub.execute_input": "2021-03-22T16:36:05.499548Z",
     "iopub.status.busy": "2021-03-22T16:36:05.498503Z",
     "iopub.status.idle": "2021-03-22T16:36:05.746840Z",
     "shell.execute_reply": "2021-03-22T16:36:05.746152Z"
    },
    "papermill": {
     "duration": 0.291573,
     "end_time": "2021-03-22T16:36:05.746993",
     "exception": false,
     "start_time": "2021-03-22T16:36:05.455420",
     "status": "completed"
    },
    "tags": []
   },
   "outputs": [
    {
     "data": {
      "text/plain": [
       "<AxesSubplot:>"
      ]
     },
     "execution_count": 20,
     "metadata": {},
     "output_type": "execute_result"
    },
    {
     "data": {
      "image/png": "[encoded data removed]",
      "text/plain": [
       "<Figure size 1440x720 with 1 Axes>"
      ]
     },
     "metadata": {
      "needs_background": "light"
     },
     "output_type": "display_data"
    }
   ],
   "source": [
    "plt.figure(figsize=(20,10))\n",
    "feat_importances = pd.Series(model1.feature_importances_, index=X_train.columns)\n",
    "feat_importances.nlargest(6).plot(kind='barh')"
   ]
  },
  {
   "cell_type": "markdown",
   "metadata": {
    "papermill": {
     "duration": 0.035527,
     "end_time": "2021-03-22T16:36:05.818797",
     "exception": false,
     "start_time": "2021-03-22T16:36:05.783270",
     "status": "completed"
    },
    "tags": []
   },
   "source": [
    "- Tenure, Contract_Month to Month, Montly Charges, Total charges and Tech support no seem to contribute the most to the churn (Top 5)\n",
    "- From the distribution plots, it can be inferred that customers make up their mind to terminate within the first 10 months\n",
    "- Also, customers with a two year contract are less likely to churn than a month to month contract\n",
    "- Additionaly customer support are good measures to prevent the company from losing customers. Also as inferred above, customer support enables multiple subscribers"
   ]
  },
  {
   "cell_type": "markdown",
   "metadata": {
    "papermill": {
     "duration": 0.035125,
     "end_time": "2021-03-22T16:36:05.890394",
     "exception": false,
     "start_time": "2021-03-22T16:36:05.855269",
     "status": "completed"
    },
    "tags": []
   },
   "source": [
    "### As always would love to receive feedback on any improvement or mistake"
   ]
  }
 ],
 "metadata": {
  "kernelspec": {
   "display_name": "Python 3",
   "language": "python",
   "name": "python3"
  },
  "language_info": {
   "codemirror_mode": {
    "name": "ipython",
    "version": 3
   },
   "file_extension": ".py",
   "mimetype": "text/x-python",
   "name": "python",
   "nbconvert_exporter": "python",
   "pygments_lexer": "ipython3",
   "version": "3.7.9"
  },
  "papermill": {
   "default_parameters": {},
   "duration": 78.640601,
   "end_time": "2021-03-22T16:36:06.637185",
   "environment_variables": {},
   "exception": null,
   "input_path": "__notebook__.ipynb",
   "output_path": "__notebook__.ipynb",
   "parameters": {},
   "start_time": "2021-03-22T16:34:47.996584",
   "version": "2.2.2"
  }
 },
 "nbformat": 4,
 "nbformat_minor": 4
}
