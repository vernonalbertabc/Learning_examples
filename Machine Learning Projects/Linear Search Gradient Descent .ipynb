{
 "cells": [
  {
   "cell_type": "markdown",
   "metadata": {},
   "source": [
    "This module deals with fitting of a function to a data and finding the location of the minimum value. \n",
    "\n",
    "This example can be used for slices of huge data or images (template matching) where finding the minimum value and location can be difficult or is dynamically obtained when the required pattern is in motion."
   ]
  },
  {
   "cell_type": "markdown",
   "metadata": {},
   "source": [
    "- Libraries"
   ]
  },
  {
   "cell_type": "code",
   "execution_count": 1,
   "metadata": {},
   "outputs": [],
   "source": [
    "import numpy as np\n",
    "\n",
    "import matplotlib.pyplot as plt\n",
    "%matplotlib inline\n",
    "\n",
    "import math\n",
    "\n",
    "import scipy.optimize as optimization\n",
    "\n",
    "import cv2\n",
    "\n",
    "import warnings\n",
    "warnings.filterwarnings('ignore')\n",
    "\n",
    "\n"
   ]
  },
  {
   "cell_type": "markdown",
   "metadata": {},
   "source": [
    "- Hypothethical data"
   ]
  },
  {
   "cell_type": "code",
   "execution_count": 2,
   "metadata": {},
   "outputs": [],
   "source": [
    "# Random values in parabolic fashion\n",
    "xdata = np.array([89,70,64,50,30,21,8,0,-10,-5,0,12,23,45,80,85,100])\n",
    "ydata = np.arange(len(xdata))\n",
    "\n",
    "x = ydata\n"
   ]
  },
  {
   "cell_type": "markdown",
   "metadata": {},
   "source": [
    "- Quadratic Fitting of data to a function. "
   ]
  },
  {
   "cell_type": "code",
   "execution_count": 3,
   "metadata": {},
   "outputs": [],
   "source": [
    "def func(x, a, b, c):\n",
    "    '''\n",
    "    Description: This function takes in a value of array containing the indices(x), coeffecients a, b and c and perform \n",
    "    fitting of data to the mentioned function\n",
    "    \n",
    "    Arguments:\n",
    "    \n",
    "    x - a numerical value of x \n",
    "    a - coeffecient of function (float)\n",
    "    b - coeffecient of function (float)\n",
    "    c - coeffecient of function (float)\n",
    "    \n",
    "    Returns:\n",
    "    \n",
    "    a + b*x + c*x*x - a numerical array containing the fit of the data\n",
    "    \n",
    "    '''\n",
    "        \n",
    "    return a + b*x + c*x*x"
   ]
  },
  {
   "cell_type": "code",
   "execution_count": 4,
   "metadata": {},
   "outputs": [
    {
     "data": {
      "image/png": "[encoded data removed]",
      "text/plain": [
       "<Figure size 432x288 with 1 Axes>"
      ]
     },
     "metadata": {
      "needs_background": "light"
     },
     "output_type": "display_data"
    }
   ],
   "source": [
    "# Initial guess for coeffecients of a quadratic equation.\n",
    "x0    = np.array([0.0, 0.0, 0.0])\n",
    "\n",
    "popt, pcov = optimization.curve_fit(func, ydata, xdata, x0)\n",
    "data = func(ydata,*popt)\n",
    "\n",
    "plt.plot(xdata,'-r',label=\"Original values\")\n",
    "plt.plot(data,'-b',label=\"Approximated function\")\n",
    "plt.legend()\n",
    "plt.show()"
   ]
  },
  {
   "cell_type": "markdown",
   "metadata": {},
   "source": [
    "- Deriavative of function"
   ]
  },
  {
   "cell_type": "code",
   "execution_count": 5,
   "metadata": {},
   "outputs": [],
   "source": [
    "def deriv(x,a,b,c):\n",
    "    '''\n",
    "    Description: This function takes in a values of list containing the present and previous values of x, coeffecients \n",
    "    a, b and c and calculates deriavative of the function. The deriavative is calculated dynamicaly. This in useful in \n",
    "    applications like template matching in computer vision where intensity of the spot in unknown but the underlying function \n",
    "    is unknown. Hence func(*var) simulates that. Note: if maximum value \n",
    "    \n",
    "    Arguments:\n",
    "    \n",
    "    x - a numerical value of x \n",
    "    a - coeffecient of function (float)\n",
    "    b - coeffecient of function (float)\n",
    "    c - coeffecient of function (float)\n",
    "    \n",
    "    Returns:\n",
    "    \n",
    "    (func(x[-1], a, b, c)-func(x[-2], a, b, c))/(x[-1]-x[-2]) - a numerical array containing the derivative of the data\n",
    "    \n",
    "    '''\n",
    "    \n",
    "    \n",
    "    \n",
    "    x_deriv = (func(x[-1], a, b, c)-func(x[-2], a, b, c))/(x[-1]-x[-2])\n",
    "    \n",
    "    return x_deriv"
   ]
  },
  {
   "cell_type": "markdown",
   "metadata": {},
   "source": [
    "- Gradient Descent"
   ]
  },
  {
   "cell_type": "code",
   "execution_count": 6,
   "metadata": {},
   "outputs": [],
   "source": [
    "# https://www.tech-quantum.com/implementation-of-gradient-descent-in-python/\n",
    "# https://scipy-lectures.org/advanced/mathematical_optimization/auto_examples/plot_gradient_descent.html\n",
    "\n",
    "def LS_GradDesc(x_new, x_prev, precision, a, b, c,l_r):\n",
    "    \n",
    "    '''\n",
    "    Description: Line search for minima using gradient descent and display the corresponding search\n",
    "    \n",
    "    Arguments:\n",
    "    \n",
    "    x_new - new random numerical value (float)\n",
    "    x_prev - old random numerical value (float)\n",
    "    precision - Precison for the func(x_new) to reach minima (float)\n",
    "    a - coeffecient of function (float)\n",
    "    b - coeffecient of function (float)\n",
    "    c - coeffecient of function (float)\n",
    "    l_r - learning rate (float)\n",
    "    \n",
    "        \n",
    "    '''\n",
    "     \n",
    "    xnew = []\n",
    "    ynew = []\n",
    "    \n",
    "    while abs(x_new - x_prev) > precision:\n",
    "        \n",
    "        if len(xnew)==0:\n",
    "            xnew.append(x_prev)\n",
    "            xnew.append(x_new)\n",
    "            \n",
    "        if len(ynew)==0:\n",
    "            \n",
    "            ynew.append(func(x_prev,a,b,c))\n",
    "            ynew.append(func(x_new,a,b,c))\n",
    "        \n",
    "             \n",
    "       \n",
    "        \n",
    "        x_new = x_new - l_r * deriv(xnew,a,b,c)      \n",
    "        \n",
    "        \n",
    "        \n",
    "        y_new = func(x_new,a,b,c)\n",
    "        xnew.append(x_new)\n",
    "        ynew.append(y_new)     \n",
    "    \n",
    "      \n",
    "    plt.scatter(xnew,ynew,c ='b',label=\"Trajectory during minimisation\")\n",
    "    plt.plot(xnew,ynew,'b')\n",
    "    plt.plot(data,'-r',label=\"Original function\")\n",
    "    plt.legend()\n",
    "    plt.show()  \n",
    "    "
   ]
  },
  {
   "cell_type": "code",
   "execution_count": 7,
   "metadata": {},
   "outputs": [
    {
     "data": {
      "image/png": "[encoded data removed]",
      "text/plain": [
       "<Figure size 432x288 with 1 Axes>"
      ]
     },
     "metadata": {
      "needs_background": "light"
     },
     "output_type": "display_data"
    }
   ],
   "source": [
    "#Implement gradient descent (all the arguments are arbitrarily chosen except coeffecients)\n",
    "LS_GradDesc(14.0, 16.0, 0.001,popt[0],popt[1],popt[2],l_r= 0.02)\n"
   ]
  }
 ],
 "metadata": {
  "kernelspec": {
   "display_name": "Python 3",
   "language": "python",
   "name": "python3"
  },
  "language_info": {
   "codemirror_mode": {
    "name": "ipython",
    "version": 3
   },
   "file_extension": ".py",
   "mimetype": "text/x-python",
   "name": "python",
   "nbconvert_exporter": "python",
   "pygments_lexer": "ipython3",
   "version": "3.8.5"
  }
 },
 "nbformat": 4,
 "nbformat_minor": 2
}
