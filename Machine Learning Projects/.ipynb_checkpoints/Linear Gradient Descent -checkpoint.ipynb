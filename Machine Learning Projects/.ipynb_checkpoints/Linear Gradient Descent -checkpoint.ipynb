{
 "cells": [
  {
   "cell_type": "markdown",
   "metadata": {},
   "source": [
    "This module deals with fitting of a function to a data and finding the location of the minimum value. \n",
    "\n",
    "This example can be used for slices of huge data or images where finding the minimum value and location can be difficult or is dynamically obtained when the required pattern is in motion."
   ]
  },
  {
   "cell_type": "markdown",
   "metadata": {},
   "source": [
    "- Gauss Fitting of data to a function. "
   ]
  },
  {
   "cell_type": "code",
   "execution_count": 1,
   "metadata": {},
   "outputs": [
    {
     "name": "stdout",
     "output_type": "stream",
     "text": [
      "[ 99.92982483 -25.40918483   1.61687307]\n"
     ]
    },
    {
     "data": {
      "image/png": "[encoded data removed]",
      "text/plain": [
       "<Figure size 432x288 with 1 Axes>"
      ]
     },
     "metadata": {
      "needs_background": "light"
     },
     "output_type": "display_data"
    }
   ],
   "source": [
    "import numpy as np\n",
    "import matplotlib.pyplot as plt\n",
    "import math\n",
    "import scipy.optimize as optimization\n",
    "import cv2\n",
    "%matplotlib inline\n",
    "\n",
    "# Random values in parabolic fashion\n",
    "xdata = np.array([89,70,64,50,30,21,8,0,-10,-5,0,12,23,45,80,85,100])\n",
    "ydata = np.arange(len(xdata))\n",
    "\n",
    "x = ydata\n",
    "# Initial guess.\n",
    "x0    = np.array([0.0, 0.0, 0.0])\n",
    "\n",
    "def func(x, a, b, c):\n",
    "    '''\n",
    "    Description: This function takes in a value of array containing the indices(x), coeffecients a, b and c and perform \n",
    "    fitting of data to the mentioned function\n",
    "    \n",
    "    Arguments:\n",
    "    \n",
    "    x - a numerical value of x \n",
    "    a - coeffecient of function (float)\n",
    "    b - coeffecient of function (float)\n",
    "    b - coeffecient of function (float)\n",
    "    \n",
    "    Returns:\n",
    "    \n",
    "    a + b*x + c*x*x - a numerical array containing the fit of the data\n",
    "    \n",
    "    '''\n",
    "        \n",
    "    return a + b*x + c*x*x\n",
    "\n",
    "\n",
    "\n",
    "popt, pcov = optimization.curve_fit(func, ydata, xdata, x0)\n",
    "print(popt)\n",
    "plt.plot(xdata,'-r')\n",
    "data = func(ydata,*popt)\n",
    "plt.plot(data,'-b')\n",
    "plt.show()\n"
   ]
  },
  {
   "cell_type": "markdown",
   "metadata": {},
   "source": [
    "- Deriavative of function"
   ]
  },
  {
   "cell_type": "code",
   "execution_count": 2,
   "metadata": {},
   "outputs": [],
   "source": [
    "def deriv(x,a,b,c):\n",
    "    \n",
    "    '''\n",
    "    Description: This function takes in a value of x and returns its derivative based on the \n",
    "    initial function we specified.\n",
    "    \n",
    "    Arguments:\n",
    "    \n",
    "    x - a numerical value of x \n",
    "    \n",
    "    Returns:\n",
    "    \n",
    "    x_deriv - a numerical value of the derivative of x\n",
    "    \n",
    "    '''\n",
    "    \n",
    "    x_deriv = b + 2*c*x\n",
    "    return x_deriv"
   ]
  },
  {
   "cell_type": "markdown",
   "metadata": {},
   "source": [
    "- Gradient Descent"
   ]
  },
  {
   "cell_type": "code",
   "execution_count": 3,
   "metadata": {},
   "outputs": [],
   "source": [
    "#https://www.tech-quantum.com/implementation-of-gradient-descent-in-python/\n",
    "\n",
    "def step(x_new, x_prev, precision, l_r,a,b,c):\n",
    "     \n",
    "    xnew = []\n",
    "    ynew = []\n",
    "    \n",
    "    while abs(x_new - x_prev) > precision:\n",
    "        \n",
    "        x_prev = x_new\n",
    "        \n",
    "        x_new = x_new + l_r * deriv(x_new,a,b,c)*-1\n",
    "        y_new = func(x_new,a,b,c)\n",
    "        xnew.append(x_new)\n",
    "        ynew.append(y_new)\n",
    "    \n",
    "    \n",
    "    #print(ynew,xnew)\n",
    "    plt.scatter(xnew,ynew,c ='b')\n",
    "    plt.plot(xnew,ynew,'b')\n",
    "    plt.plot(data,'-r')\n",
    "    plt.show()\n",
    "    "
   ]
  },
  {
   "cell_type": "code",
   "execution_count": 5,
   "metadata": {},
   "outputs": [
    {
     "data": {
      "image/png": "[encoded data removed]",
      "text/plain": [
       "<Figure size 432x288 with 1 Axes>"
      ]
     },
     "metadata": {
      "needs_background": "light"
     },
     "output_type": "display_data"
    }
   ],
   "source": [
    "#Implement gradient descent (all the arguments are arbitrarily chosen)\n",
    "step(14, 16, 0.001, 0.02,popt[0],popt[1],popt[2])"
   ]
  },
  {
   "cell_type": "code",
   "execution_count": null,
   "metadata": {},
   "outputs": [],
   "source": [
    "img = cv2.matchTemplate()"
   ]
  }
 ],
 "metadata": {
  "kernelspec": {
   "display_name": "Python 3",
   "language": "python",
   "name": "python3"
  },
  "language_info": {
   "codemirror_mode": {
    "name": "ipython",
    "version": 3
   },
   "file_extension": ".py",
   "mimetype": "text/x-python",
   "name": "python",
   "nbconvert_exporter": "python",
   "pygments_lexer": "ipython3",
   "version": "3.8.5"
  }
 },
 "nbformat": 4,
 "nbformat_minor": 2
}
